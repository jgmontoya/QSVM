{
 "cells": [
  {
   "cell_type": "markdown",
   "metadata": {},
   "source": [
    "# Quantum SVM"
   ]
  },
  {
   "cell_type": "markdown",
   "metadata": {},
   "source": [
    "This script is used to evaluate different configurations of the QSVM over the same Iris dataset train/test split."
   ]
  },
  {
   "cell_type": "markdown",
   "metadata": {},
   "source": [
    "## Importing"
   ]
  },
  {
   "cell_type": "code",
   "execution_count": null,
   "metadata": {},
   "outputs": [],
   "source": [
    "from qiskit.aqua.utils import split_dataset_to_data_and_labels, map_label_to_class_name\n",
    "from qiskit.aqua.input import ClassificationInput\n",
    "from qiskit.aqua import run_algorithm, QuantumInstance\n",
    "from qiskit.aqua.algorithms import QSVM\n",
    "import numpy as np\n",
    "import matplotlib.pyplot as plt"
   ]
  },
  {
   "cell_type": "markdown",
   "metadata": {},
   "source": [
    "## Loading Real Backend"
   ]
  },
  {
   "cell_type": "code",
   "execution_count": null,
   "metadata": {},
   "outputs": [],
   "source": [
    "#setting up account \n",
    "from qiskit import IBMQ\n",
    "account_token = ''\n",
    "login_address = 'https://api.quantum-computing.ibm.com/api/Hubs/ibm-q/Groups/open/Projects/main'\n",
    "#IBMQ.enable_account(account_token, login_address)"
   ]
  },
  {
   "cell_type": "markdown",
   "metadata": {},
   "source": [
    "## Loading Iris Dataset"
   ]
  },
  {
   "cell_type": "code",
   "execution_count": null,
   "metadata": {},
   "outputs": [],
   "source": [
    "from DatasetLoader import LoadDataset"
   ]
  },
  {
   "cell_type": "markdown",
   "metadata": {},
   "source": [
    "## QSVM"
   ]
  },
  {
   "cell_type": "code",
   "execution_count": null,
   "metadata": {},
   "outputs": [],
   "source": [
    "from qiskit.aqua.components.feature_maps import SecondOrderExpansion, FirstOrderExpansion, PauliExpansion, self_product\n",
    "\n",
    "features = ['SepalLengthCm', 'SepalWidthCm', 'PetalLengthCm', 'PetalWidthCm']\n",
    "train_set, test_set = LoadDataset('../dataset/Iris_training.csv', '../dataset/Iris_testing.csv', features, label='Species')\n",
    "\n",
    "temp = [test_set[k] for k in test_set]\n",
    "total_array = np.concatenate(temp)\n",
    "algo_input = ClassificationInput(train_set, test_set, total_array)\n"
   ]
  },
  {
   "cell_type": "code",
   "execution_count": null,
   "metadata": {},
   "outputs": [],
   "source": [
    "#this method runs aqua with all possible combination of feature maps and multi-class expansions from a given config\n",
    "def run_aqua(algo_input, real_backend = False, nshots = 1024):\n",
    "    # This json object sets the basic config for the QSVM algorithm object. \n",
    "    # Since programmatic object themselves are not yet fully implemented in Aqua, \n",
    "    # this is the only possible way to define algorithm objects.\n",
    "    aqua_dict = {\n",
    "        'problem': {'name': 'classification'},\n",
    "        'algorithm': {'name': 'QSVM'},\n",
    "        'backend': {},\n",
    "        'multiclass_extension': {},\n",
    "        'feature_map': {}\n",
    "    }\n",
    "    \n",
    "    # This part defines backend\n",
    "    if real_backend:\n",
    "        aqua_dict['backend'] = {'provider': 'qiskit.IBMQ', 'name': 'ibmq_16_melbourne', 'shots': nshots}\n",
    "    else:\n",
    "        aqua_dict['backend'] =  {'provider': 'qiskit.BasicAer', 'name': 'qasm_simulator', 'shots': nshots}\n",
    "        \n",
    "    # list of all extensions and feature maps.\n",
    "    \n",
    "    extensions = [\n",
    "        {'name': 'OneAgainstRest'},\n",
    "        {'name': 'AllPairs'}, \n",
    "        {'name': 'ErrorCorrectingCode', 'code_size': 5}]\n",
    "        \n",
    "    feature_maps = [\n",
    "        {'name': 'PauliExpansion', 'depth': 2, 'paulis':['Z', 'ZZ'], 'entanglement': 'full'},\n",
    "        {'name': 'RawFeatureVector', 'feature_dimension': 4},\n",
    "        {'name': 'PauliZExpansion', 'depth': 2, 'z_order': 2, 'entanglement': 'full'},\n",
    "        {'name': 'SecondOrderExpansion', 'depth': 2, 'entanglement': 'full'},\n",
    "        {'name': 'FirstOrderExpansion', 'depth': 2}]\n",
    "        \n",
    "    # looping over them\n",
    "    for extension in extensions:\n",
    "        for feature_map in feature_maps:\n",
    "            aqua_dict['multiclass_extension'] = extension\n",
    "            aqua_dict['feature_map'] = feature_map\n",
    "            result = run_algorithm(aqua_dict, algo_input)\n",
    "            print(\"\\n----- Using multiclass extension: '{}' -----\\n\".format(extension['name']))\n",
    "            print(\"\\n----- Using feature map: '{}' -----\\n\".format(feature_map['name']))\n",
    "            for k,v in result.items():\n",
    "                print(\"'{}' : {}\".format(k, v))\n"
   ]
  },
  {
   "cell_type": "code",
   "execution_count": null,
   "metadata": {},
   "outputs": [],
   "source": [
    "%%time\n",
    "run_aqua(algo_input)"
   ]
  },
  {
   "cell_type": "code",
   "execution_count": null,
   "metadata": {},
   "outputs": [],
   "source": []
  }
 ],
 "metadata": {
  "kernelspec": {
   "display_name": "Python 3",
   "language": "python",
   "name": "python3"
  },
  "language_info": {
   "codemirror_mode": {
    "name": "ipython",
    "version": 3
   },
   "file_extension": ".py",
   "mimetype": "text/x-python",
   "name": "python",
   "nbconvert_exporter": "python",
   "pygments_lexer": "ipython3",
   "version": "3.7.3"
  }
 },
 "nbformat": 4,
 "nbformat_minor": 2
}
