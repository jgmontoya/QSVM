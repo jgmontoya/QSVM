{
 "cells": [
  {
   "cell_type": "markdown",
   "metadata": {},
   "source": [
    "# Quantum SVM"
   ]
  },
  {
   "cell_type": "markdown",
   "metadata": {},
   "source": [
    "## Importing"
   ]
  },
  {
   "cell_type": "code",
   "execution_count": null,
   "metadata": {},
   "outputs": [],
   "source": [
    "from qiskit.aqua.utils import split_dataset_to_data_and_labels, map_label_to_class_name\n",
    "from qiskit.aqua.input import ClassificationInput\n",
    "from qiskit.aqua import run_algorithm, QuantumInstance\n",
    "from qiskit.aqua.algorithms import QSVM\n",
    "import numpy as np\n",
    "import matplotlib.pyplot as plt"
   ]
  },
  {
   "cell_type": "markdown",
   "metadata": {},
   "source": [
    "## Loading Real Backend"
   ]
  },
  {
   "cell_type": "code",
   "execution_count": null,
   "metadata": {},
   "outputs": [],
   "source": [
    "#setting up account \n",
    "from qiskit import IBMQ\n",
    "account_token = '130e1800ed9a45ead7808e858b7c540efdcd5c80efe80212e2539c3c3df64388d381a330a8b100601442298621aa7df0af1bee4421f3fced3d31bf76aa8e915e'\n",
    "login_address = 'https://api.quantum-computing.ibm.com/api/Hubs/ibm-q/Groups/open/Projects/main'\n",
    "IBMQ.enable_account(account_token, login_address)"
   ]
  },
  {
   "cell_type": "markdown",
   "metadata": {},
   "source": [
    "## Loading Iris Dataset"
   ]
  },
  {
   "cell_type": "code",
   "execution_count": null,
   "metadata": {},
   "outputs": [],
   "source": [
    "from DatasetLoader import LoadDataset"
   ]
  },
  {
   "cell_type": "markdown",
   "metadata": {},
   "source": [
    "## QSVM"
   ]
  },
  {
   "cell_type": "code",
   "execution_count": null,
   "metadata": {},
   "outputs": [],
   "source": [
    "from qiskit.aqua.components.feature_maps import SecondOrderExpansion, FirstOrderExpansion, PauliExpansion, self_product\n",
    "#from qiskit.aqua.components.multiclass_extensions import AllPairs\n",
    "\n",
    "#feature_dim = 4 # Iris contains 4 features: sepal length, sepal width, petal length, petal width\n",
    "#feature_map_depth = 2 # circuit depth of feature map\n",
    "\n",
    "# Linear entanglement means nearest neighbour entanglement\n",
    "\n",
    "# Making a list of feature maps to test in combination with all multiclass extensions\n",
    "\n",
    "\n",
    "# Creating train and test sets from Iris dataset\n",
    "#train_set, test_set = Iris(20,5)\n",
    "#extra_train_set, extra_test_set = Iris(1,5)\n",
    "#datapoints, class_to_label = split_dataset_to_data_and_labels(extra_test_set)\n",
    "\n",
    "\n",
    "\n",
    "\n",
    "# making a list of qsvms using different multiclass extensions and feature maps               \n",
    "#qsvms = []\n",
    "#for f in range(0, len(feature_maps)):\n",
    "\n",
    "#    *** NOTE ***\n",
    "# Apparently, the __init__.py for multiclass extensions does not include the name of\n",
    "# any of the three available classes: OneAgainstRest, ErrorCorrectingCode and AllPairs.\n",
    "# It's impossible to import any of them from the library.\n",
    "# I have tried reinstalled the package with pip install qiskit -e (experimental mode)\n",
    "# and edited my qiskit\\aqua\\components\\multiclass_extensions\\__init__.py to make extension \n",
    "# objects work. It takes too much time so I'll just switch to jsons from now on. \n",
    "#\n",
    "#    __all__ = ['MulticlassExtension',\n",
    "#*add line  'OneAgainstRest'\n",
    "#*add line  'ErrorCorrectingCode'\n",
    "#*add line  'AllPairs'\n",
    "#           'Estimator']\n",
    "    \n",
    "#    one_against_rest = OneAgainstRest() \n",
    "\n",
    "# Also, it seems that when using declarative approach for multiclass, parameters on backend and\n",
    "# feature map are not allowed, and I have commented out related sections specifying them. \n",
    "# I'll try to figure out why.\n",
    "\n",
    "# This part converts data from Iris method to the format required by QSVM.\n",
    "features = ['SepalLengthCm', 'SepalWidthCm', 'PetalLengthCm', 'PetalWidthCm']\n",
    "train_set, test_set = LoadDataset('../dataset/Iris_training.csv', '../dataset/Iris_testing.csv', features, label='Species')\n",
    "\n",
    "temp = [test_set[k] for k in test_set]\n",
    "total_array = np.concatenate(temp)\n",
    "algo_input = ClassificationInput(train_set, test_set, total_array)\n"
   ]
  },
  {
   "cell_type": "code",
   "execution_count": null,
   "metadata": {},
   "outputs": [],
   "source": [
    "#this method runs aqua with all possible combination of feature maps and multi-class expansions from a given config\n",
    "def run_aqua(algo_input, real_backend = False, nshots = 1024):\n",
    "    # This json object sets the basic config for the QSVM algorithm object. \n",
    "    # Since programmatic object themselves are not yet fully implemented in Aqua, \n",
    "    # this is the only possible way to define algorithm objects.\n",
    "    aqua_dict = {\n",
    "        'problem': {'name': 'classification'},\n",
    "        'algorithm': {'name': 'QSVM'},\n",
    "        'backend': {},\n",
    "        'multiclass_extension': {},\n",
    "        'feature_map': {}\n",
    "    }\n",
    "    \n",
    "    # This part defines backend\n",
    "    if real_backend:\n",
    "        aqua_dict['backend'] = {'provider': 'qiskit.IBMQ', 'name': 'ibmq_16_melbourne', 'shots': nshots}\n",
    "    else:\n",
    "        aqua_dict['backend'] =  {'provider': 'qiskit.BasicAer', 'name': 'qasm_simulator', 'shots': nshots}\n",
    "        \n",
    "    # list of all extensions and feature maps.\n",
    "    extensions = [\n",
    "       {'name': 'OneAgainstRest'},\n",
    "       {'name': 'AllPairs'}, \n",
    "       {'name': 'ErrorCorrectingCode', 'code_size': 5}]\n",
    "\n",
    "    feature_maps = [\n",
    "        {'name': 'SecondOrderExpansion', 'depth': 2, 'entanglement': 'linear'},\n",
    "        {'name': 'FirstOrderExpansion', 'depth': 2}]\n",
    "    \n",
    "    # looping over them\n",
    "    for extension in extensions:\n",
    "        for feature_map in feature_maps:\n",
    "            aqua_dict['multiclass_extension'] = extension\n",
    "            aqua_dict['feature_map'] = feature_map\n",
    "            result = run_algorithm(aqua_dict, algo_input)\n",
    "            print(\"\\n----- Using multiclass extension: '{}' -----\\n\".format(extension['name']))\n",
    "            print(\"\\n----- Using feature map: '{}' -----\\n\".format(feature_map['name']))\n",
    "            for k,v in result.items():\n",
    "                print(\"'{}' : {}\".format(k, v))\n"
   ]
  },
  {
   "cell_type": "code",
   "execution_count": null,
   "metadata": {},
   "outputs": [],
   "source": [
    "run_aqua(algo_input)"
   ]
  },
  {
   "cell_type": "code",
   "execution_count": null,
   "metadata": {},
   "outputs": [],
   "source": []
  }
 ],
 "metadata": {
  "kernelspec": {
   "display_name": "Python 3",
   "language": "python",
   "name": "python3"
  },
  "language_info": {
   "codemirror_mode": {
    "name": "ipython",
    "version": 3
   },
   "file_extension": ".py",
   "mimetype": "text/x-python",
   "name": "python",
   "nbconvert_exporter": "python",
   "pygments_lexer": "ipython3",
   "version": "3.7.3"
  }
 },
 "nbformat": 4,
 "nbformat_minor": 2
}
