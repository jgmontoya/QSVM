{
 "cells": [
  {
   "cell_type": "markdown",
   "metadata": {},
   "source": [
    "# Overview of the iris dataset"
   ]
  },
  {
   "cell_type": "code",
   "execution_count": 10,
   "metadata": {},
   "outputs": [],
   "source": [
    "import pandas as pd\n",
    "import seaborn as sns\n",
    "from sklearn.decomposition import PCA\n",
    "import plotly.graph_objs as go\n",
    "\n",
    "%matplotlib inline"
   ]
  },
  {
   "cell_type": "code",
   "execution_count": 11,
   "metadata": {},
   "outputs": [
    {
     "data": {
      "text/html": [
       "<div>\n",
       "<style scoped>\n",
       "    .dataframe tbody tr th:only-of-type {\n",
       "        vertical-align: middle;\n",
       "    }\n",
       "\n",
       "    .dataframe tbody tr th {\n",
       "        vertical-align: top;\n",
       "    }\n",
       "\n",
       "    .dataframe thead th {\n",
       "        text-align: right;\n",
       "    }\n",
       "</style>\n",
       "<table border=\"1\" class=\"dataframe\">\n",
       "  <thead>\n",
       "    <tr style=\"text-align: right;\">\n",
       "      <th></th>\n",
       "      <th>SepalLengthCm</th>\n",
       "      <th>SepalWidthCm</th>\n",
       "      <th>PetalLengthCm</th>\n",
       "      <th>PetalWidthCm</th>\n",
       "      <th>Species</th>\n",
       "    </tr>\n",
       "    <tr>\n",
       "      <th>Id</th>\n",
       "      <th></th>\n",
       "      <th></th>\n",
       "      <th></th>\n",
       "      <th></th>\n",
       "      <th></th>\n",
       "    </tr>\n",
       "  </thead>\n",
       "  <tbody>\n",
       "    <tr>\n",
       "      <th>1</th>\n",
       "      <td>5.1</td>\n",
       "      <td>3.5</td>\n",
       "      <td>1.4</td>\n",
       "      <td>0.2</td>\n",
       "      <td>Iris-setosa</td>\n",
       "    </tr>\n",
       "    <tr>\n",
       "      <th>2</th>\n",
       "      <td>4.9</td>\n",
       "      <td>3.0</td>\n",
       "      <td>1.4</td>\n",
       "      <td>0.2</td>\n",
       "      <td>Iris-setosa</td>\n",
       "    </tr>\n",
       "    <tr>\n",
       "      <th>3</th>\n",
       "      <td>4.7</td>\n",
       "      <td>3.2</td>\n",
       "      <td>1.3</td>\n",
       "      <td>0.2</td>\n",
       "      <td>Iris-setosa</td>\n",
       "    </tr>\n",
       "    <tr>\n",
       "      <th>4</th>\n",
       "      <td>4.6</td>\n",
       "      <td>3.1</td>\n",
       "      <td>1.5</td>\n",
       "      <td>0.2</td>\n",
       "      <td>Iris-setosa</td>\n",
       "    </tr>\n",
       "    <tr>\n",
       "      <th>5</th>\n",
       "      <td>5.0</td>\n",
       "      <td>3.6</td>\n",
       "      <td>1.4</td>\n",
       "      <td>0.2</td>\n",
       "      <td>Iris-setosa</td>\n",
       "    </tr>\n",
       "  </tbody>\n",
       "</table>\n",
       "</div>"
      ],
      "text/plain": [
       "    SepalLengthCm  SepalWidthCm  PetalLengthCm  PetalWidthCm      Species\n",
       "Id                                                                       \n",
       "1             5.1           3.5            1.4           0.2  Iris-setosa\n",
       "2             4.9           3.0            1.4           0.2  Iris-setosa\n",
       "3             4.7           3.2            1.3           0.2  Iris-setosa\n",
       "4             4.6           3.1            1.5           0.2  Iris-setosa\n",
       "5             5.0           3.6            1.4           0.2  Iris-setosa"
      ]
     },
     "execution_count": 11,
     "metadata": {},
     "output_type": "execute_result"
    }
   ],
   "source": [
    "df = pd.read_csv('Iris.csv', index_col=0)\n",
    "df.head()"
   ]
  },
  {
   "cell_type": "code",
   "execution_count": 14,
   "metadata": {},
   "outputs": [
    {
     "data": {
      "text/html": [
       "<div>\n",
       "<style scoped>\n",
       "    .dataframe tbody tr th:only-of-type {\n",
       "        vertical-align: middle;\n",
       "    }\n",
       "\n",
       "    .dataframe tbody tr th {\n",
       "        vertical-align: top;\n",
       "    }\n",
       "\n",
       "    .dataframe thead th {\n",
       "        text-align: right;\n",
       "    }\n",
       "</style>\n",
       "<table border=\"1\" class=\"dataframe\">\n",
       "  <thead>\n",
       "    <tr style=\"text-align: right;\">\n",
       "      <th></th>\n",
       "      <th>SepalLengthCm</th>\n",
       "      <th>SepalWidthCm</th>\n",
       "      <th>PetalLengthCm</th>\n",
       "      <th>PetalWidthCm</th>\n",
       "    </tr>\n",
       "  </thead>\n",
       "  <tbody>\n",
       "    <tr>\n",
       "      <th>count</th>\n",
       "      <td>150.000000</td>\n",
       "      <td>150.000000</td>\n",
       "      <td>150.000000</td>\n",
       "      <td>150.000000</td>\n",
       "    </tr>\n",
       "    <tr>\n",
       "      <th>mean</th>\n",
       "      <td>5.843333</td>\n",
       "      <td>3.054000</td>\n",
       "      <td>3.758667</td>\n",
       "      <td>1.198667</td>\n",
       "    </tr>\n",
       "    <tr>\n",
       "      <th>std</th>\n",
       "      <td>0.828066</td>\n",
       "      <td>0.433594</td>\n",
       "      <td>1.764420</td>\n",
       "      <td>0.763161</td>\n",
       "    </tr>\n",
       "    <tr>\n",
       "      <th>min</th>\n",
       "      <td>4.300000</td>\n",
       "      <td>2.000000</td>\n",
       "      <td>1.000000</td>\n",
       "      <td>0.100000</td>\n",
       "    </tr>\n",
       "    <tr>\n",
       "      <th>25%</th>\n",
       "      <td>5.100000</td>\n",
       "      <td>2.800000</td>\n",
       "      <td>1.600000</td>\n",
       "      <td>0.300000</td>\n",
       "    </tr>\n",
       "    <tr>\n",
       "      <th>50%</th>\n",
       "      <td>5.800000</td>\n",
       "      <td>3.000000</td>\n",
       "      <td>4.350000</td>\n",
       "      <td>1.300000</td>\n",
       "    </tr>\n",
       "    <tr>\n",
       "      <th>75%</th>\n",
       "      <td>6.400000</td>\n",
       "      <td>3.300000</td>\n",
       "      <td>5.100000</td>\n",
       "      <td>1.800000</td>\n",
       "    </tr>\n",
       "    <tr>\n",
       "      <th>max</th>\n",
       "      <td>7.900000</td>\n",
       "      <td>4.400000</td>\n",
       "      <td>6.900000</td>\n",
       "      <td>2.500000</td>\n",
       "    </tr>\n",
       "  </tbody>\n",
       "</table>\n",
       "</div>"
      ],
      "text/plain": [
       "       SepalLengthCm  SepalWidthCm  PetalLengthCm  PetalWidthCm\n",
       "count     150.000000    150.000000     150.000000    150.000000\n",
       "mean        5.843333      3.054000       3.758667      1.198667\n",
       "std         0.828066      0.433594       1.764420      0.763161\n",
       "min         4.300000      2.000000       1.000000      0.100000\n",
       "25%         5.100000      2.800000       1.600000      0.300000\n",
       "50%         5.800000      3.000000       4.350000      1.300000\n",
       "75%         6.400000      3.300000       5.100000      1.800000\n",
       "max         7.900000      4.400000       6.900000      2.500000"
      ]
     },
     "execution_count": 14,
     "metadata": {},
     "output_type": "execute_result"
    }
   ],
   "source": [
    "df.describe()"
   ]
  },
  {
   "cell_type": "code",
   "execution_count": 12,
   "metadata": {},
   "outputs": [
    {
     "data": {
      "text/plain": [
       "<seaborn.axisgrid.PairGrid at 0x7f9dac1025c0>"
      ]
     },
     "execution_count": 12,
     "metadata": {},
     "output_type": "execute_result"
    },
    {
     "data": {
      "image/png": "[encoded data removed]",
      "text/plain": [
       "<Figure size 823.5x720 with 20 Axes>"
      ]
     },
     "metadata": {
      "needs_background": "light"
     },
     "output_type": "display_data"
    }
   ],
   "source": [
    "sns.pairplot(df, hue='Species', markers=['o', 's', 'x'])"
   ]
  },
  {
   "cell_type": "code",
   "execution_count": 13,
   "metadata": {},
   "outputs": [
    {
     "data": {
      "application/vnd.plotly.v1+json": {
       "config": {
        "plotlyServerURL": "https://plot.ly"
       },
       "data": [
        {
         "marker": {
          "color": "blue",
          "opacity": 0.8,
          "size": 6,
          "symbol": "circle"
         },
         "mode": "markers",
         "name": "Iris-setosa",
         "type": "scatter3d",
         "x": [
          -2.6842071251039483,
          -2.71539061563413,
          -2.889819539617916,
          -2.746437197308734,
          -2.7285929818313144,
          -2.279897361009598,
          -2.8208906821806297,
          -2.6264819933238184,
          -2.887958565335634,
          -2.6738446867191206,
          -2.5065267893389036,
          -2.613142718271056,
          -2.787433975997097,
          -3.22520044627498,
          -2.643543216941146,
          -2.3838693237993756,
          -2.6225262031258083,
          -2.6483227324791265,
          -2.1990779614307634,
          -2.587346188917738,
          -2.3105317013131335,
          -2.5432349073036953,
          -3.215857694900105,
          -2.3031285376638824,
          -2.3561710866838976,
          -2.5079172268378804,
          -2.4690559975451225,
          -2.5623909468367505,
          -2.6398212683765814,
          -2.632847908030758,
          -2.588462051303391,
          -2.4100773371215958,
          -2.647636673396901,
          -2.5971594770759183,
          -2.6738446867191206,
          -2.866999846932534,
          -2.625228464680421,
          -2.6738446867191206,
          -2.981842664853908,
          -2.590323025585674,
          -2.770138910746324,
          -2.8522110815663906,
          -2.9982964428323506,
          -2.4055141012847012,
          -2.2088329541767058,
          -2.715665190747454,
          -2.537573371013507,
          -2.8403212968270086,
          -2.5426857570770482,
          -2.70391231486365
         ],
         "y": [
          0.3266073147643885,
          -0.16955684755602624,
          -0.13734560960502795,
          -0.31112431575199184,
          0.33392456356845474,
          0.7477827132251336,
          -0.082104511024681,
          0.17040534896028983,
          -0.5707980263315918,
          -0.10669170375273856,
          0.651935013672572,
          0.021520631960257896,
          -0.22774018887110628,
          -0.5032799094854259,
          1.1861948994134495,
          1.3447543445598622,
          0.8180896745965952,
          0.3191366677508846,
          0.8792440880917367,
          0.520473638805968,
          0.397867821588892,
          0.44003175465981526,
          0.14161557162558355,
          0.10552267842998224,
          -0.03120958906833842,
          -0.139056339913174,
          0.1378873145904177,
          0.3746845627501061,
          0.3192900659603219,
          -0.19007583063362415,
          -0.19739307943769085,
          0.41808000824761615,
          0.8199826325595069,
          1.1000219280072685,
          -0.10669170375273856,
          0.07719309572358721,
          0.6068000084215864,
          -0.10669170375273856,
          -0.4802500488560767,
          0.23605933728887282,
          0.2710594197651671,
          -0.9328653674695444,
          -0.3343075745907773,
          0.19591725769606078,
          0.4426960304210028,
          -0.24268148289811298,
          0.5103675454766059,
          -0.2205763382764767,
          0.5862810253439884,
          0.11501085217050566
         ],
         "z": [
          -0.021511837001963102,
          -0.20352142500549145,
          0.024709240998957712,
          0.03767197528530123,
          0.09622969977460939,
          0.17432561901640295,
          0.26425108519069607,
          -0.015801510264315043,
          0.02733540611450723,
          -0.19153329973564465,
          -0.06927499581393096,
          0.10765035324990473,
          -0.20032778809538926,
          0.06841362917233033,
          -0.14450570400963542,
          0.2837306639397771,
          0.14531598882161798,
          0.033394254070698105,
          -0.11452146479835279,
          0.21957208800082506,
          -0.23369560709796947,
          0.2148363702796755,
          0.2996189815108712,
          0.04568004127448713,
          0.12940757589599344,
          -0.24711633789085985,
          0.1012630794297022,
          -0.07235915743602817,
          -0.1392533737785348,
          0.04646646364504579,
          -0.071275073131526,
          -0.13838824005004097,
          0.23058560425417296,
          0.16358191262366278,
          -0.19153329973564465,
          -0.15684235049802425,
          -0.2611631564817056,
          -0.19153329973564465,
          0.07972480735962136,
          -0.07390123824707649,
          0.08424157450476331,
          -0.34096149110715174,
          0.19900842494724197,
          0.27071707036883347,
          0.30348780926827057,
          -0.09051560595006833,
          0.17191840447686085,
          0.0900613765304152,
          -0.011175267831168983,
          -0.08269572660682165
         ]
        },
        {
         "marker": {
          "color": "orange",
          "opacity": 0.8,
          "size": 6,
          "symbol": "square"
         },
         "mode": "markers",
         "name": "Iris-versicolor",
         "type": "scatter3d",
         "x": [
          1.284794587845071,
          0.9324107529829175,
          1.4640613227790753,
          0.1809672063476993,
          1.0871344872070012,
          0.6404367495231457,
          1.095223709938478,
          -0.7514671406482263,
          1.0432977807062809,
          -0.010190070727852822,
          -0.5110861958950897,
          0.5110980606834775,
          0.2623357561531805,
          0.984044545169431,
          -0.1748640019656959,
          0.9275729420326997,
          0.6595927890562004,
          0.23454058625983584,
          0.9423617073988423,
          0.04324640032870497,
          1.1162407237538159,
          0.3567865678304614,
          1.2964688502855342,
          0.9205026489090096,
          0.7140082136428333,
          0.8996408632837759,
          1.33104141885472,
          1.557396272070702,
          0.812455548998002,
          -0.30733475566340396,
          -0.07034288894927106,
          -0.19188449210314515,
          0.13499495045137355,
          1.378736982775583,
          0.5872748535799112,
          0.8072054966767166,
          1.2204289662446792,
          0.81286779036907,
          0.2451951616903462,
          0.16451342836925617,
          0.4630309888714247,
          0.8901604456511564,
          0.2288790499696479,
          -0.7070812839208597,
          0.35553303918706386,
          0.33112694733272313,
          0.375238228946766,
          0.6416902781665432,
          -0.9084633331234948,
          0.2978079074069342
         ],
         "y": [
          0.6854391861329202,
          0.3191980898336488,
          0.5041898329724531,
          -0.8256039435761133,
          0.0753903892887675,
          -0.41732348297002575,
          0.28389121093848035,
          -1.0011075129743943,
          0.22895690877700686,
          -0.7205748667019015,
          -1.2624919538621404,
          -0.1022841050459702,
          -0.5478932980253367,
          -0.12436042022227789,
          -0.25181557108017066,
          0.46823620504311714,
          -0.3519762910603165,
          -0.33192182936212034,
          -0.541822258150014,
          -0.5814894466123587,
          -0.08421401387837349,
          -0.06682382794136613,
          -0.3275615197949442,
          -0.18239036332792097,
          0.15037915314843728,
          0.32961097958188407,
          0.24466952060228936,
          0.26739258481276484,
          -0.16233157487863326,
          -0.36508661276616033,
          -0.7025379317307259,
          -0.6774905443743572,
          -0.3117096427033962,
          -0.4212051382146283,
          -0.4832842677174825,
          0.19505396377111148,
          0.4080353370010176,
          -0.37067899831890966,
          -0.266728035661848,
          -0.6796614693108137,
          -0.6695265465361225,
          -0.03381244274676266,
          -0.4022576201789113,
          -1.0084247617784612,
          -0.5032184874026623,
          -0.21118014066262672,
          -0.2916220248087798,
          0.019071176491270835,
          -0.7515687251694855,
          -0.34701652159856394
         ],
         "z": [
          -0.40612955307696313,
          -0.017129909205125235,
          -0.33826072771795895,
          -0.17708285639336488,
          -0.3065444648144318,
          0.04118876935364434,
          0.1700225337414998,
          0.015672194238160093,
          -0.414814566148704,
          0.28343724625412553,
          -0.26648995382244983,
          0.1323278904749737,
          -0.6919415783189649,
          -0.06215742761353879,
          0.09365863819195037,
          -0.31322940056857723,
          0.3283842970693479,
          -0.2702806708356937,
          -0.4973485411777046,
          -0.2329635564825228,
          0.45984422657275353,
          -0.22747218032088332,
          -0.34751321258425033,
          -0.23161141855267006,
          -0.32037233282926975,
          -0.3147714813796257,
          -0.5212449247379847,
          -0.16463849085222862,
          0.03634357634449068,
          -0.3153371969389201,
          -0.24175804484226798,
          -0.3039165434636248,
          -0.17497330378776524,
          0.015480495121708304,
          0.44458375303487097,
          0.38945871138620264,
          -0.23656608684982794,
          -0.6128710500606732,
          0.18956248472924195,
          -0.05779923880574424,
          -0.024053890889809318,
          -0.00976802636842478,
          -0.22736270503287936,
          -0.10206934253841171,
          0.01788946589650754,
          0.08380907322251578,
          0.07907335550136596,
          -0.20417287686374627,
          -0.007736584506980753,
          0.012179139158859284
         ]
        },
        {
         "marker": {
          "color": "green",
          "opacity": 0.8,
          "size": 6,
          "symbol": "x"
         },
         "mode": "markers",
         "name": "Iris-virginica",
         "type": "scatter3d",
         "x": [
          2.5317269804395583,
          1.4140722251737576,
          2.6164846082840434,
          1.970814945906482,
          2.349757983950943,
          3.3968799206781375,
          0.5193832450849368,
          2.932005096991301,
          2.319672793874053,
          2.9181342336442513,
          1.6619349470194866,
          1.8023404526607334,
          2.165378862953397,
          1.3445942175098249,
          1.585267299308644,
          1.9047435782139124,
          1.949248781864498,
          3.488765379656386,
          3.79468686120997,
          1.2983298245678165,
          2.4281672590208476,
          1.1980973722749628,
          3.4992654842989572,
          1.3876682501815556,
          2.2758536493056933,
          2.6141938306983334,
          1.2576251829251366,
          1.2906696477376016,
          2.1228539805083133,
          2.3875644023690277,
          2.840960925285384,
          3.232342898295874,
          2.158738373133135,
          1.4431026043759747,
          1.7796401068985703,
          3.076521621020662,
          2.144986856709304,
          1.9048629251371318,
          1.1688534694704038,
          2.107653731173268,
          2.314303394629548,
          1.9224508848357522,
          1.4140722251737576,
          2.563322712340809,
          2.41939121980498,
          1.9440170488777369,
          1.5256636313138727,
          1.764045935526983,
          1.901629075288233,
          1.3896661333194171
         ],
         "y": [
          -0.011842236640300523,
          -0.5749250559123048,
          0.3419352869872948,
          -0.18112569470491371,
          -0.04188254965484184,
          0.5471680462301528,
          -1.1913516890506533,
          0.3523770061808598,
          -0.2455481706069101,
          0.7803806293720322,
          0.2420384010375224,
          -0.21615460662653627,
          0.21528028337300723,
          -0.7764154251768252,
          -0.539307053847172,
          0.11881899098269857,
          0.040730259427767854,
          1.1715445442635644,
          0.25326557097253466,
          -0.7610139365215078,
          0.3767819712541526,
          -0.6055789617645945,
          0.4567734669640746,
          -0.20403098657015473,
          0.3333865257566422,
          0.5583669502788224,
          -0.17913699742322278,
          -0.11642525182937251,
          -0.2108548845494899,
          0.46251925072626066,
          0.37274259104902147,
          1.3705240359763338,
          -0.21832553156299322,
          -0.14380128908272616,
          -0.5014647947060157,
          0.6857644422460568,
          0.13890660887731443,
          0.048047508231834596,
          -0.16450249981508994,
          0.3714822491771058,
          0.1826088507936986,
          0.4092711761786957,
          -0.5749250559123048,
          0.27597450223983816,
          0.30350393770262885,
          0.18741522204601396,
          -0.3750208481918228,
          0.07851918642935747,
          0.11587674824796555,
          -0.28288670917226916
         ],
         "z": [
          0.7584586515284955,
          0.2963982243052131,
          -0.11214137055436675,
          0.10653914864984594,
          0.28411068086616736,
          -0.3518731576273015,
          0.5466855311249489,
          -0.4236912783368969,
          -0.3499221833590494,
          0.42173893361376735,
          0.24281526346759313,
          -0.03769532849396476,
          0.0331481831991332,
          0.2828680182243182,
          0.6305704884623257,
          0.48013807976572853,
          0.042729093929436614,
          0.1293200833617756,
          -0.5169707159938949,
          -0.3448870474686999,
          0.21864907004670506,
          0.5126407650398147,
          -0.5769101867216484,
          -0.06351132177864816,
          0.28467815266071794,
          -0.20842334661879328,
          0.046977807449227076,
          0.231613560568306,
          0.15351588509125513,
          -0.45202396144912743,
          -0.5010315391382015,
          -0.11844877739515763,
          0.20842197616391567,
          -0.1540829711054271,
          -0.17581118605670318,
          -0.33642274120822385,
          0.7341847390548603,
          0.16047063070600845,
          0.2824608810023712,
          0.027437856461485263,
          0.3228604007423825,
          0.1154928159607172,
          0.2963982243052131,
          0.2912536131268597,
          0.5043025169513597,
          0.17930287068112669,
          -0.12063644074491217,
          0.13078405342866883,
          0.7228735608675687,
          0.3623178316312214
         ]
        }
       ],
       "layout": {
        "scene": {
         "xaxis": {
          "title": {
           "text": "1st eigenvector"
          }
         },
         "yaxis": {
          "title": {
           "text": "2nd eigenvector"
          }
         },
         "zaxis": {
          "title": {
           "text": "3rd eigenvector"
          }
         }
        },
        "template": {
         "data": {
          "bar": [
           {
            "error_x": {
             "color": "#2a3f5f"
            },
            "error_y": {
             "color": "#2a3f5f"
            },
            "marker": {
             "line": {
              "color": "#E5ECF6",
              "width": 0.5
             }
            },
            "type": "bar"
           }
          ],
          "barpolar": [
           {
            "marker": {
             "line": {
              "color": "#E5ECF6",
              "width": 0.5
             }
            },
            "type": "barpolar"
           }
          ],
          "carpet": [
           {
            "aaxis": {
             "endlinecolor": "#2a3f5f",
             "gridcolor": "white",
             "linecolor": "white",
             "minorgridcolor": "white",
             "startlinecolor": "#2a3f5f"
            },
            "baxis": {
             "endlinecolor": "#2a3f5f",
             "gridcolor": "white",
             "linecolor": "white",
             "minorgridcolor": "white",
             "startlinecolor": "#2a3f5f"
            },
            "type": "carpet"
           }
          ],
          "choropleth": [
           {
            "colorbar": {
             "outlinewidth": 0,
             "ticks": ""
            },
            "type": "choropleth"
           }
          ],
          "contour": [
           {
            "colorbar": {
             "outlinewidth": 0,
             "ticks": ""
            },
            "colorscale": [
             [
              0,
              "#0d0887"
             ],
             [
              0.1111111111111111,
              "#46039f"
             ],
             [
              0.2222222222222222,
              "#7201a8"
             ],
             [
              0.3333333333333333,
              "#9c179e"
             ],
             [
              0.4444444444444444,
              "#bd3786"
             ],
             [
              0.5555555555555556,
              "#d8576b"
             ],
             [
              0.6666666666666666,
              "#ed7953"
             ],
             [
              0.7777777777777778,
              "#fb9f3a"
             ],
             [
              0.8888888888888888,
              "#fdca26"
             ],
             [
              1,
              "#f0f921"
             ]
            ],
            "type": "contour"
           }
          ],
          "contourcarpet": [
           {
            "colorbar": {
             "outlinewidth": 0,
             "ticks": ""
            },
            "type": "contourcarpet"
           }
          ],
          "heatmap": [
           {
            "colorbar": {
             "outlinewidth": 0,
             "ticks": ""
            },
            "colorscale": [
             [
              0,
              "#0d0887"
             ],
             [
              0.1111111111111111,
              "#46039f"
             ],
             [
              0.2222222222222222,
              "#7201a8"
             ],
             [
              0.3333333333333333,
              "#9c179e"
             ],
             [
              0.4444444444444444,
              "#bd3786"
             ],
             [
              0.5555555555555556,
              "#d8576b"
             ],
             [
              0.6666666666666666,
              "#ed7953"
             ],
             [
              0.7777777777777778,
              "#fb9f3a"
             ],
             [
              0.8888888888888888,
              "#fdca26"
             ],
             [
              1,
              "#f0f921"
             ]
            ],
            "type": "heatmap"
           }
          ],
          "heatmapgl": [
           {
            "colorbar": {
             "outlinewidth": 0,
             "ticks": ""
            },
            "colorscale": [
             [
              0,
              "#0d0887"
             ],
             [
              0.1111111111111111,
              "#46039f"
             ],
             [
              0.2222222222222222,
              "#7201a8"
             ],
             [
              0.3333333333333333,
              "#9c179e"
             ],
             [
              0.4444444444444444,
              "#bd3786"
             ],
             [
              0.5555555555555556,
              "#d8576b"
             ],
             [
              0.6666666666666666,
              "#ed7953"
             ],
             [
              0.7777777777777778,
              "#fb9f3a"
             ],
             [
              0.8888888888888888,
              "#fdca26"
             ],
             [
              1,
              "#f0f921"
             ]
            ],
            "type": "heatmapgl"
           }
          ],
          "histogram": [
           {
            "marker": {
             "colorbar": {
              "outlinewidth": 0,
              "ticks": ""
             }
            },
            "type": "histogram"
           }
          ],
          "histogram2d": [
           {
            "colorbar": {
             "outlinewidth": 0,
             "ticks": ""
            },
            "colorscale": [
             [
              0,
              "#0d0887"
             ],
             [
              0.1111111111111111,
              "#46039f"
             ],
             [
              0.2222222222222222,
              "#7201a8"
             ],
             [
              0.3333333333333333,
              "#9c179e"
             ],
             [
              0.4444444444444444,
              "#bd3786"
             ],
             [
              0.5555555555555556,
              "#d8576b"
             ],
             [
              0.6666666666666666,
              "#ed7953"
             ],
             [
              0.7777777777777778,
              "#fb9f3a"
             ],
             [
              0.8888888888888888,
              "#fdca26"
             ],
             [
              1,
              "#f0f921"
             ]
            ],
            "type": "histogram2d"
           }
          ],
          "histogram2dcontour": [
           {
            "colorbar": {
             "outlinewidth": 0,
             "ticks": ""
            },
            "colorscale": [
             [
              0,
              "#0d0887"
             ],
             [
              0.1111111111111111,
              "#46039f"
             ],
             [
              0.2222222222222222,
              "#7201a8"
             ],
             [
              0.3333333333333333,
              "#9c179e"
             ],
             [
              0.4444444444444444,
              "#bd3786"
             ],
             [
              0.5555555555555556,
              "#d8576b"
             ],
             [
              0.6666666666666666,
              "#ed7953"
             ],
             [
              0.7777777777777778,
              "#fb9f3a"
             ],
             [
              0.8888888888888888,
              "#fdca26"
             ],
             [
              1,
              "#f0f921"
             ]
            ],
            "type": "histogram2dcontour"
           }
          ],
          "mesh3d": [
           {
            "colorbar": {
             "outlinewidth": 0,
             "ticks": ""
            },
            "type": "mesh3d"
           }
          ],
          "parcoords": [
           {
            "line": {
             "colorbar": {
              "outlinewidth": 0,
              "ticks": ""
             }
            },
            "type": "parcoords"
           }
          ],
          "scatter": [
           {
            "marker": {
             "colorbar": {
              "outlinewidth": 0,
              "ticks": ""
             }
            },
            "type": "scatter"
           }
          ],
          "scatter3d": [
           {
            "line": {
             "colorbar": {
              "outlinewidth": 0,
              "ticks": ""
             }
            },
            "marker": {
             "colorbar": {
              "outlinewidth": 0,
              "ticks": ""
             }
            },
            "type": "scatter3d"
           }
          ],
          "scattercarpet": [
           {
            "marker": {
             "colorbar": {
              "outlinewidth": 0,
              "ticks": ""
             }
            },
            "type": "scattercarpet"
           }
          ],
          "scattergeo": [
           {
            "marker": {
             "colorbar": {
              "outlinewidth": 0,
              "ticks": ""
             }
            },
            "type": "scattergeo"
           }
          ],
          "scattergl": [
           {
            "marker": {
             "colorbar": {
              "outlinewidth": 0,
              "ticks": ""
             }
            },
            "type": "scattergl"
           }
          ],
          "scattermapbox": [
           {
            "marker": {
             "colorbar": {
              "outlinewidth": 0,
              "ticks": ""
             }
            },
            "type": "scattermapbox"
           }
          ],
          "scatterpolar": [
           {
            "marker": {
             "colorbar": {
              "outlinewidth": 0,
              "ticks": ""
             }
            },
            "type": "scatterpolar"
           }
          ],
          "scatterpolargl": [
           {
            "marker": {
             "colorbar": {
              "outlinewidth": 0,
              "ticks": ""
             }
            },
            "type": "scatterpolargl"
           }
          ],
          "scatterternary": [
           {
            "marker": {
             "colorbar": {
              "outlinewidth": 0,
              "ticks": ""
             }
            },
            "type": "scatterternary"
           }
          ],
          "surface": [
           {
            "colorbar": {
             "outlinewidth": 0,
             "ticks": ""
            },
            "colorscale": [
             [
              0,
              "#0d0887"
             ],
             [
              0.1111111111111111,
              "#46039f"
             ],
             [
              0.2222222222222222,
              "#7201a8"
             ],
             [
              0.3333333333333333,
              "#9c179e"
             ],
             [
              0.4444444444444444,
              "#bd3786"
             ],
             [
              0.5555555555555556,
              "#d8576b"
             ],
             [
              0.6666666666666666,
              "#ed7953"
             ],
             [
              0.7777777777777778,
              "#fb9f3a"
             ],
             [
              0.8888888888888888,
              "#fdca26"
             ],
             [
              1,
              "#f0f921"
             ]
            ],
            "type": "surface"
           }
          ],
          "table": [
           {
            "cells": {
             "fill": {
              "color": "#EBF0F8"
             },
             "line": {
              "color": "white"
             }
            },
            "header": {
             "fill": {
              "color": "#C8D4E3"
             },
             "line": {
              "color": "white"
             }
            },
            "type": "table"
           }
          ]
         },
         "layout": {
          "annotationdefaults": {
           "arrowcolor": "#2a3f5f",
           "arrowhead": 0,
           "arrowwidth": 1
          },
          "colorscale": {
           "diverging": [
            [
             0,
             "#8e0152"
            ],
            [
             0.1,
             "#c51b7d"
            ],
            [
             0.2,
             "#de77ae"
            ],
            [
             0.3,
             "#f1b6da"
            ],
            [
             0.4,
             "#fde0ef"
            ],
            [
             0.5,
             "#f7f7f7"
            ],
            [
             0.6,
             "#e6f5d0"
            ],
            [
             0.7,
             "#b8e186"
            ],
            [
             0.8,
             "#7fbc41"
            ],
            [
             0.9,
             "#4d9221"
            ],
            [
             1,
             "#276419"
            ]
           ],
           "sequential": [
            [
             0,
             "#0d0887"
            ],
            [
             0.1111111111111111,
             "#46039f"
            ],
            [
             0.2222222222222222,
             "#7201a8"
            ],
            [
             0.3333333333333333,
             "#9c179e"
            ],
            [
             0.4444444444444444,
             "#bd3786"
            ],
            [
             0.5555555555555556,
             "#d8576b"
            ],
            [
             0.6666666666666666,
             "#ed7953"
            ],
            [
             0.7777777777777778,
             "#fb9f3a"
            ],
            [
             0.8888888888888888,
             "#fdca26"
            ],
            [
             1,
             "#f0f921"
            ]
           ],
           "sequentialminus": [
            [
             0,
             "#0d0887"
            ],
            [
             0.1111111111111111,
             "#46039f"
            ],
            [
             0.2222222222222222,
             "#7201a8"
            ],
            [
             0.3333333333333333,
             "#9c179e"
            ],
            [
             0.4444444444444444,
             "#bd3786"
            ],
            [
             0.5555555555555556,
             "#d8576b"
            ],
            [
             0.6666666666666666,
             "#ed7953"
            ],
            [
             0.7777777777777778,
             "#fb9f3a"
            ],
            [
             0.8888888888888888,
             "#fdca26"
            ],
            [
             1,
             "#f0f921"
            ]
           ]
          },
          "colorway": [
           "#636efa",
           "#EF553B",
           "#00cc96",
           "#ab63fa",
           "#FFA15A",
           "#19d3f3",
           "#FF6692",
           "#B6E880",
           "#FF97FF",
           "#FECB52"
          ],
          "font": {
           "color": "#2a3f5f"
          },
          "geo": {
           "bgcolor": "white",
           "lakecolor": "white",
           "landcolor": "#E5ECF6",
           "showlakes": true,
           "showland": true,
           "subunitcolor": "white"
          },
          "hoverlabel": {
           "align": "left"
          },
          "hovermode": "closest",
          "mapbox": {
           "style": "light"
          },
          "paper_bgcolor": "white",
          "plot_bgcolor": "#E5ECF6",
          "polar": {
           "angularaxis": {
            "gridcolor": "white",
            "linecolor": "white",
            "ticks": ""
           },
           "bgcolor": "#E5ECF6",
           "radialaxis": {
            "gridcolor": "white",
            "linecolor": "white",
            "ticks": ""
           }
          },
          "scene": {
           "xaxis": {
            "backgroundcolor": "#E5ECF6",
            "gridcolor": "white",
            "gridwidth": 2,
            "linecolor": "white",
            "showbackground": true,
            "ticks": "",
            "zerolinecolor": "white"
           },
           "yaxis": {
            "backgroundcolor": "#E5ECF6",
            "gridcolor": "white",
            "gridwidth": 2,
            "linecolor": "white",
            "showbackground": true,
            "ticks": "",
            "zerolinecolor": "white"
           },
           "zaxis": {
            "backgroundcolor": "#E5ECF6",
            "gridcolor": "white",
            "gridwidth": 2,
            "linecolor": "white",
            "showbackground": true,
            "ticks": "",
            "zerolinecolor": "white"
           }
          },
          "shapedefaults": {
           "line": {
            "color": "#2a3f5f"
           }
          },
          "ternary": {
           "aaxis": {
            "gridcolor": "white",
            "linecolor": "white",
            "ticks": ""
           },
           "baxis": {
            "gridcolor": "white",
            "linecolor": "white",
            "ticks": ""
           },
           "bgcolor": "#E5ECF6",
           "caxis": {
            "gridcolor": "white",
            "linecolor": "white",
            "ticks": ""
           }
          },
          "title": {
           "x": 0.05
          },
          "xaxis": {
           "automargin": true,
           "gridcolor": "white",
           "linecolor": "white",
           "ticks": "",
           "zerolinecolor": "white",
           "zerolinewidth": 2
          },
          "yaxis": {
           "automargin": true,
           "gridcolor": "white",
           "linecolor": "white",
           "ticks": "",
           "zerolinecolor": "white",
           "zerolinewidth": 2
          }
         }
        },
        "title": {
         "text": "First three PCA directions"
        }
       }
      },
      "text/html": [
       "<div>\n",
       "        \n",
       "        \n",
       "            <div id=\"47ea2768-4ad0-4544-956b-376cb9a01a94\" class=\"plotly-graph-div\" style=\"height:525px; width:100%;\"></div>\n",
       "            <script type=\"text/javascript\">\n",
       "                require([\"plotly\"], function(Plotly) {\n",
       "                    window.PLOTLYENV=window.PLOTLYENV || {};\n",
       "                    \n",
       "                if (document.getElementById(\"47ea2768-4ad0-4544-956b-376cb9a01a94\")) {\n",
       "                    Plotly.newPlot(\n",
       "                        '47ea2768-4ad0-4544-956b-376cb9a01a94',\n",
       "                        [{\"marker\": {\"color\": \"blue\", \"opacity\": 0.8, \"size\": 6, \"symbol\": \"circle\"}, \"mode\": \"markers\", \"name\": \"Iris-setosa\", \"type\": \"scatter3d\", \"x\": [-2.6842071251039483, -2.71539061563413, -2.889819539617916, -2.746437197308734, -2.7285929818313144, -2.279897361009598, -2.8208906821806297, -2.6264819933238184, -2.887958565335634, -2.6738446867191206, -2.5065267893389036, -2.613142718271056, -2.787433975997097, -3.22520044627498, -2.643543216941146, -2.3838693237993756, -2.6225262031258083, -2.6483227324791265, -2.1990779614307634, -2.587346188917738, -2.3105317013131335, -2.5432349073036953, -3.215857694900105, -2.3031285376638824, -2.3561710866838976, -2.5079172268378804, -2.4690559975451225, -2.5623909468367505, -2.6398212683765814, -2.632847908030758, -2.588462051303391, -2.4100773371215958, -2.647636673396901, -2.5971594770759183, -2.6738446867191206, -2.866999846932534, -2.625228464680421, -2.6738446867191206, -2.981842664853908, -2.590323025585674, -2.770138910746324, -2.8522110815663906, -2.9982964428323506, -2.4055141012847012, -2.2088329541767058, -2.715665190747454, -2.537573371013507, -2.8403212968270086, -2.5426857570770482, -2.70391231486365], \"y\": [0.3266073147643885, -0.16955684755602624, -0.13734560960502795, -0.31112431575199184, 0.33392456356845474, 0.7477827132251336, -0.082104511024681, 0.17040534896028983, -0.5707980263315918, -0.10669170375273856, 0.651935013672572, 0.021520631960257896, -0.22774018887110628, -0.5032799094854259, 1.1861948994134495, 1.3447543445598622, 0.8180896745965952, 0.3191366677508846, 0.8792440880917367, 0.520473638805968, 0.397867821588892, 0.44003175465981526, 0.14161557162558355, 0.10552267842998224, -0.03120958906833842, -0.139056339913174, 0.1378873145904177, 0.3746845627501061, 0.3192900659603219, -0.19007583063362415, -0.19739307943769085, 0.41808000824761615, 0.8199826325595069, 1.1000219280072685, -0.10669170375273856, 0.07719309572358721, 0.6068000084215864, -0.10669170375273856, -0.4802500488560767, 0.23605933728887282, 0.2710594197651671, -0.9328653674695444, -0.3343075745907773, 0.19591725769606078, 0.4426960304210028, -0.24268148289811298, 0.5103675454766059, -0.2205763382764767, 0.5862810253439884, 0.11501085217050566], \"z\": [-0.021511837001963102, -0.20352142500549145, 0.024709240998957712, 0.03767197528530123, 0.09622969977460939, 0.17432561901640295, 0.26425108519069607, -0.015801510264315043, 0.02733540611450723, -0.19153329973564465, -0.06927499581393096, 0.10765035324990473, -0.20032778809538926, 0.06841362917233033, -0.14450570400963542, 0.2837306639397771, 0.14531598882161798, 0.033394254070698105, -0.11452146479835279, 0.21957208800082506, -0.23369560709796947, 0.2148363702796755, 0.2996189815108712, 0.04568004127448713, 0.12940757589599344, -0.24711633789085985, 0.1012630794297022, -0.07235915743602817, -0.1392533737785348, 0.04646646364504579, -0.071275073131526, -0.13838824005004097, 0.23058560425417296, 0.16358191262366278, -0.19153329973564465, -0.15684235049802425, -0.2611631564817056, -0.19153329973564465, 0.07972480735962136, -0.07390123824707649, 0.08424157450476331, -0.34096149110715174, 0.19900842494724197, 0.27071707036883347, 0.30348780926827057, -0.09051560595006833, 0.17191840447686085, 0.0900613765304152, -0.011175267831168983, -0.08269572660682165]}, {\"marker\": {\"color\": \"orange\", \"opacity\": 0.8, \"size\": 6, \"symbol\": \"square\"}, \"mode\": \"markers\", \"name\": \"Iris-versicolor\", \"type\": \"scatter3d\", \"x\": [1.284794587845071, 0.9324107529829175, 1.4640613227790753, 0.1809672063476993, 1.0871344872070012, 0.6404367495231457, 1.095223709938478, -0.7514671406482263, 1.0432977807062809, -0.010190070727852822, -0.5110861958950897, 0.5110980606834775, 0.2623357561531805, 0.984044545169431, -0.1748640019656959, 0.9275729420326997, 0.6595927890562004, 0.23454058625983584, 0.9423617073988423, 0.04324640032870497, 1.1162407237538159, 0.3567865678304614, 1.2964688502855342, 0.9205026489090096, 0.7140082136428333, 0.8996408632837759, 1.33104141885472, 1.557396272070702, 0.812455548998002, -0.30733475566340396, -0.07034288894927106, -0.19188449210314515, 0.13499495045137355, 1.378736982775583, 0.5872748535799112, 0.8072054966767166, 1.2204289662446792, 0.81286779036907, 0.2451951616903462, 0.16451342836925617, 0.4630309888714247, 0.8901604456511564, 0.2288790499696479, -0.7070812839208597, 0.35553303918706386, 0.33112694733272313, 0.375238228946766, 0.6416902781665432, -0.9084633331234948, 0.2978079074069342], \"y\": [0.6854391861329202, 0.3191980898336488, 0.5041898329724531, -0.8256039435761133, 0.0753903892887675, -0.41732348297002575, 0.28389121093848035, -1.0011075129743943, 0.22895690877700686, -0.7205748667019015, -1.2624919538621404, -0.1022841050459702, -0.5478932980253367, -0.12436042022227789, -0.25181557108017066, 0.46823620504311714, -0.3519762910603165, -0.33192182936212034, -0.541822258150014, -0.5814894466123587, -0.08421401387837349, -0.06682382794136613, -0.3275615197949442, -0.18239036332792097, 0.15037915314843728, 0.32961097958188407, 0.24466952060228936, 0.26739258481276484, -0.16233157487863326, -0.36508661276616033, -0.7025379317307259, -0.6774905443743572, -0.3117096427033962, -0.4212051382146283, -0.4832842677174825, 0.19505396377111148, 0.4080353370010176, -0.37067899831890966, -0.266728035661848, -0.6796614693108137, -0.6695265465361225, -0.03381244274676266, -0.4022576201789113, -1.0084247617784612, -0.5032184874026623, -0.21118014066262672, -0.2916220248087798, 0.019071176491270835, -0.7515687251694855, -0.34701652159856394], \"z\": [-0.40612955307696313, -0.017129909205125235, -0.33826072771795895, -0.17708285639336488, -0.3065444648144318, 0.04118876935364434, 0.1700225337414998, 0.015672194238160093, -0.414814566148704, 0.28343724625412553, -0.26648995382244983, 0.1323278904749737, -0.6919415783189649, -0.06215742761353879, 0.09365863819195037, -0.31322940056857723, 0.3283842970693479, -0.2702806708356937, -0.4973485411777046, -0.2329635564825228, 0.45984422657275353, -0.22747218032088332, -0.34751321258425033, -0.23161141855267006, -0.32037233282926975, -0.3147714813796257, -0.5212449247379847, -0.16463849085222862, 0.03634357634449068, -0.3153371969389201, -0.24175804484226798, -0.3039165434636248, -0.17497330378776524, 0.015480495121708304, 0.44458375303487097, 0.38945871138620264, -0.23656608684982794, -0.6128710500606732, 0.18956248472924195, -0.05779923880574424, -0.024053890889809318, -0.00976802636842478, -0.22736270503287936, -0.10206934253841171, 0.01788946589650754, 0.08380907322251578, 0.07907335550136596, -0.20417287686374627, -0.007736584506980753, 0.012179139158859284]}, {\"marker\": {\"color\": \"green\", \"opacity\": 0.8, \"size\": 6, \"symbol\": \"x\"}, \"mode\": \"markers\", \"name\": \"Iris-virginica\", \"type\": \"scatter3d\", \"x\": [2.5317269804395583, 1.4140722251737576, 2.6164846082840434, 1.970814945906482, 2.349757983950943, 3.3968799206781375, 0.5193832450849368, 2.932005096991301, 2.319672793874053, 2.9181342336442513, 1.6619349470194866, 1.8023404526607334, 2.165378862953397, 1.3445942175098249, 1.585267299308644, 1.9047435782139124, 1.949248781864498, 3.488765379656386, 3.79468686120997, 1.2983298245678165, 2.4281672590208476, 1.1980973722749628, 3.4992654842989572, 1.3876682501815556, 2.2758536493056933, 2.6141938306983334, 1.2576251829251366, 1.2906696477376016, 2.1228539805083133, 2.3875644023690277, 2.840960925285384, 3.232342898295874, 2.158738373133135, 1.4431026043759747, 1.7796401068985703, 3.076521621020662, 2.144986856709304, 1.9048629251371318, 1.1688534694704038, 2.107653731173268, 2.314303394629548, 1.9224508848357522, 1.4140722251737576, 2.563322712340809, 2.41939121980498, 1.9440170488777369, 1.5256636313138727, 1.764045935526983, 1.901629075288233, 1.3896661333194171], \"y\": [-0.011842236640300523, -0.5749250559123048, 0.3419352869872948, -0.18112569470491371, -0.04188254965484184, 0.5471680462301528, -1.1913516890506533, 0.3523770061808598, -0.2455481706069101, 0.7803806293720322, 0.2420384010375224, -0.21615460662653627, 0.21528028337300723, -0.7764154251768252, -0.539307053847172, 0.11881899098269857, 0.040730259427767854, 1.1715445442635644, 0.25326557097253466, -0.7610139365215078, 0.3767819712541526, -0.6055789617645945, 0.4567734669640746, -0.20403098657015473, 0.3333865257566422, 0.5583669502788224, -0.17913699742322278, -0.11642525182937251, -0.2108548845494899, 0.46251925072626066, 0.37274259104902147, 1.3705240359763338, -0.21832553156299322, -0.14380128908272616, -0.5014647947060157, 0.6857644422460568, 0.13890660887731443, 0.048047508231834596, -0.16450249981508994, 0.3714822491771058, 0.1826088507936986, 0.4092711761786957, -0.5749250559123048, 0.27597450223983816, 0.30350393770262885, 0.18741522204601396, -0.3750208481918228, 0.07851918642935747, 0.11587674824796555, -0.28288670917226916], \"z\": [0.7584586515284955, 0.2963982243052131, -0.11214137055436675, 0.10653914864984594, 0.28411068086616736, -0.3518731576273015, 0.5466855311249489, -0.4236912783368969, -0.3499221833590494, 0.42173893361376735, 0.24281526346759313, -0.03769532849396476, 0.0331481831991332, 0.2828680182243182, 0.6305704884623257, 0.48013807976572853, 0.042729093929436614, 0.1293200833617756, -0.5169707159938949, -0.3448870474686999, 0.21864907004670506, 0.5126407650398147, -0.5769101867216484, -0.06351132177864816, 0.28467815266071794, -0.20842334661879328, 0.046977807449227076, 0.231613560568306, 0.15351588509125513, -0.45202396144912743, -0.5010315391382015, -0.11844877739515763, 0.20842197616391567, -0.1540829711054271, -0.17581118605670318, -0.33642274120822385, 0.7341847390548603, 0.16047063070600845, 0.2824608810023712, 0.027437856461485263, 0.3228604007423825, 0.1154928159607172, 0.2963982243052131, 0.2912536131268597, 0.5043025169513597, 0.17930287068112669, -0.12063644074491217, 0.13078405342866883, 0.7228735608675687, 0.3623178316312214]}],\n",
       "                        {\"scene\": {\"xaxis\": {\"title\": {\"text\": \"1st eigenvector\"}}, \"yaxis\": {\"title\": {\"text\": \"2nd eigenvector\"}}, \"zaxis\": {\"title\": {\"text\": \"3rd eigenvector\"}}}, \"template\": {\"data\": {\"bar\": [{\"error_x\": {\"color\": \"#2a3f5f\"}, \"error_y\": {\"color\": \"#2a3f5f\"}, \"marker\": {\"line\": {\"color\": \"#E5ECF6\", \"width\": 0.5}}, \"type\": \"bar\"}], \"barpolar\": [{\"marker\": {\"line\": {\"color\": \"#E5ECF6\", \"width\": 0.5}}, \"type\": \"barpolar\"}], \"carpet\": [{\"aaxis\": {\"endlinecolor\": \"#2a3f5f\", \"gridcolor\": \"white\", \"linecolor\": \"white\", \"minorgridcolor\": \"white\", \"startlinecolor\": \"#2a3f5f\"}, \"baxis\": {\"endlinecolor\": \"#2a3f5f\", \"gridcolor\": \"white\", \"linecolor\": \"white\", \"minorgridcolor\": \"white\", \"startlinecolor\": \"#2a3f5f\"}, \"type\": \"carpet\"}], \"choropleth\": [{\"colorbar\": {\"outlinewidth\": 0, \"ticks\": \"\"}, \"type\": \"choropleth\"}], \"contour\": [{\"colorbar\": {\"outlinewidth\": 0, \"ticks\": \"\"}, \"colorscale\": [[0.0, \"#0d0887\"], [0.1111111111111111, \"#46039f\"], [0.2222222222222222, \"#7201a8\"], [0.3333333333333333, \"#9c179e\"], [0.4444444444444444, \"#bd3786\"], [0.5555555555555556, \"#d8576b\"], [0.6666666666666666, \"#ed7953\"], [0.7777777777777778, \"#fb9f3a\"], [0.8888888888888888, \"#fdca26\"], [1.0, \"#f0f921\"]], \"type\": \"contour\"}], \"contourcarpet\": [{\"colorbar\": {\"outlinewidth\": 0, \"ticks\": \"\"}, \"type\": \"contourcarpet\"}], \"heatmap\": [{\"colorbar\": {\"outlinewidth\": 0, \"ticks\": \"\"}, \"colorscale\": [[0.0, \"#0d0887\"], [0.1111111111111111, \"#46039f\"], [0.2222222222222222, \"#7201a8\"], [0.3333333333333333, \"#9c179e\"], [0.4444444444444444, \"#bd3786\"], [0.5555555555555556, \"#d8576b\"], [0.6666666666666666, \"#ed7953\"], [0.7777777777777778, \"#fb9f3a\"], [0.8888888888888888, \"#fdca26\"], [1.0, \"#f0f921\"]], \"type\": \"heatmap\"}], \"heatmapgl\": [{\"colorbar\": {\"outlinewidth\": 0, \"ticks\": \"\"}, \"colorscale\": [[0.0, \"#0d0887\"], [0.1111111111111111, \"#46039f\"], [0.2222222222222222, \"#7201a8\"], [0.3333333333333333, \"#9c179e\"], [0.4444444444444444, \"#bd3786\"], [0.5555555555555556, \"#d8576b\"], [0.6666666666666666, \"#ed7953\"], [0.7777777777777778, \"#fb9f3a\"], [0.8888888888888888, \"#fdca26\"], [1.0, \"#f0f921\"]], \"type\": \"heatmapgl\"}], \"histogram\": [{\"marker\": {\"colorbar\": {\"outlinewidth\": 0, \"ticks\": \"\"}}, \"type\": \"histogram\"}], \"histogram2d\": [{\"colorbar\": {\"outlinewidth\": 0, \"ticks\": \"\"}, \"colorscale\": [[0.0, \"#0d0887\"], [0.1111111111111111, \"#46039f\"], [0.2222222222222222, \"#7201a8\"], [0.3333333333333333, \"#9c179e\"], [0.4444444444444444, \"#bd3786\"], [0.5555555555555556, \"#d8576b\"], [0.6666666666666666, \"#ed7953\"], [0.7777777777777778, \"#fb9f3a\"], [0.8888888888888888, \"#fdca26\"], [1.0, \"#f0f921\"]], \"type\": \"histogram2d\"}], \"histogram2dcontour\": [{\"colorbar\": {\"outlinewidth\": 0, \"ticks\": \"\"}, \"colorscale\": [[0.0, \"#0d0887\"], [0.1111111111111111, \"#46039f\"], [0.2222222222222222, \"#7201a8\"], [0.3333333333333333, \"#9c179e\"], [0.4444444444444444, \"#bd3786\"], [0.5555555555555556, \"#d8576b\"], [0.6666666666666666, \"#ed7953\"], [0.7777777777777778, \"#fb9f3a\"], [0.8888888888888888, \"#fdca26\"], [1.0, \"#f0f921\"]], \"type\": \"histogram2dcontour\"}], \"mesh3d\": [{\"colorbar\": {\"outlinewidth\": 0, \"ticks\": \"\"}, \"type\": \"mesh3d\"}], \"parcoords\": [{\"line\": {\"colorbar\": {\"outlinewidth\": 0, \"ticks\": \"\"}}, \"type\": \"parcoords\"}], \"scatter\": [{\"marker\": {\"colorbar\": {\"outlinewidth\": 0, \"ticks\": \"\"}}, \"type\": \"scatter\"}], \"scatter3d\": [{\"line\": {\"colorbar\": {\"outlinewidth\": 0, \"ticks\": \"\"}}, \"marker\": {\"colorbar\": {\"outlinewidth\": 0, \"ticks\": \"\"}}, \"type\": \"scatter3d\"}], \"scattercarpet\": [{\"marker\": {\"colorbar\": {\"outlinewidth\": 0, \"ticks\": \"\"}}, \"type\": \"scattercarpet\"}], \"scattergeo\": [{\"marker\": {\"colorbar\": {\"outlinewidth\": 0, \"ticks\": \"\"}}, \"type\": \"scattergeo\"}], \"scattergl\": [{\"marker\": {\"colorbar\": {\"outlinewidth\": 0, \"ticks\": \"\"}}, \"type\": \"scattergl\"}], \"scattermapbox\": [{\"marker\": {\"colorbar\": {\"outlinewidth\": 0, \"ticks\": \"\"}}, \"type\": \"scattermapbox\"}], \"scatterpolar\": [{\"marker\": {\"colorbar\": {\"outlinewidth\": 0, \"ticks\": \"\"}}, \"type\": \"scatterpolar\"}], \"scatterpolargl\": [{\"marker\": {\"colorbar\": {\"outlinewidth\": 0, \"ticks\": \"\"}}, \"type\": \"scatterpolargl\"}], \"scatterternary\": [{\"marker\": {\"colorbar\": {\"outlinewidth\": 0, \"ticks\": \"\"}}, \"type\": \"scatterternary\"}], \"surface\": [{\"colorbar\": {\"outlinewidth\": 0, \"ticks\": \"\"}, \"colorscale\": [[0.0, \"#0d0887\"], [0.1111111111111111, \"#46039f\"], [0.2222222222222222, \"#7201a8\"], [0.3333333333333333, \"#9c179e\"], [0.4444444444444444, \"#bd3786\"], [0.5555555555555556, \"#d8576b\"], [0.6666666666666666, \"#ed7953\"], [0.7777777777777778, \"#fb9f3a\"], [0.8888888888888888, \"#fdca26\"], [1.0, \"#f0f921\"]], \"type\": \"surface\"}], \"table\": [{\"cells\": {\"fill\": {\"color\": \"#EBF0F8\"}, \"line\": {\"color\": \"white\"}}, \"header\": {\"fill\": {\"color\": \"#C8D4E3\"}, \"line\": {\"color\": \"white\"}}, \"type\": \"table\"}]}, \"layout\": {\"annotationdefaults\": {\"arrowcolor\": \"#2a3f5f\", \"arrowhead\": 0, \"arrowwidth\": 1}, \"colorscale\": {\"diverging\": [[0, \"#8e0152\"], [0.1, \"#c51b7d\"], [0.2, \"#de77ae\"], [0.3, \"#f1b6da\"], [0.4, \"#fde0ef\"], [0.5, \"#f7f7f7\"], [0.6, \"#e6f5d0\"], [0.7, \"#b8e186\"], [0.8, \"#7fbc41\"], [0.9, \"#4d9221\"], [1, \"#276419\"]], \"sequential\": [[0.0, \"#0d0887\"], [0.1111111111111111, \"#46039f\"], [0.2222222222222222, \"#7201a8\"], [0.3333333333333333, \"#9c179e\"], [0.4444444444444444, \"#bd3786\"], [0.5555555555555556, \"#d8576b\"], [0.6666666666666666, \"#ed7953\"], [0.7777777777777778, \"#fb9f3a\"], [0.8888888888888888, \"#fdca26\"], [1.0, \"#f0f921\"]], \"sequentialminus\": [[0.0, \"#0d0887\"], [0.1111111111111111, \"#46039f\"], [0.2222222222222222, \"#7201a8\"], [0.3333333333333333, \"#9c179e\"], [0.4444444444444444, \"#bd3786\"], [0.5555555555555556, \"#d8576b\"], [0.6666666666666666, \"#ed7953\"], [0.7777777777777778, \"#fb9f3a\"], [0.8888888888888888, \"#fdca26\"], [1.0, \"#f0f921\"]]}, \"colorway\": [\"#636efa\", \"#EF553B\", \"#00cc96\", \"#ab63fa\", \"#FFA15A\", \"#19d3f3\", \"#FF6692\", \"#B6E880\", \"#FF97FF\", \"#FECB52\"], \"font\": {\"color\": \"#2a3f5f\"}, \"geo\": {\"bgcolor\": \"white\", \"lakecolor\": \"white\", \"landcolor\": \"#E5ECF6\", \"showlakes\": true, \"showland\": true, \"subunitcolor\": \"white\"}, \"hoverlabel\": {\"align\": \"left\"}, \"hovermode\": \"closest\", \"mapbox\": {\"style\": \"light\"}, \"paper_bgcolor\": \"white\", \"plot_bgcolor\": \"#E5ECF6\", \"polar\": {\"angularaxis\": {\"gridcolor\": \"white\", \"linecolor\": \"white\", \"ticks\": \"\"}, \"bgcolor\": \"#E5ECF6\", \"radialaxis\": {\"gridcolor\": \"white\", \"linecolor\": \"white\", \"ticks\": \"\"}}, \"scene\": {\"xaxis\": {\"backgroundcolor\": \"#E5ECF6\", \"gridcolor\": \"white\", \"gridwidth\": 2, \"linecolor\": \"white\", \"showbackground\": true, \"ticks\": \"\", \"zerolinecolor\": \"white\"}, \"yaxis\": {\"backgroundcolor\": \"#E5ECF6\", \"gridcolor\": \"white\", \"gridwidth\": 2, \"linecolor\": \"white\", \"showbackground\": true, \"ticks\": \"\", \"zerolinecolor\": \"white\"}, \"zaxis\": {\"backgroundcolor\": \"#E5ECF6\", \"gridcolor\": \"white\", \"gridwidth\": 2, \"linecolor\": \"white\", \"showbackground\": true, \"ticks\": \"\", \"zerolinecolor\": \"white\"}}, \"shapedefaults\": {\"line\": {\"color\": \"#2a3f5f\"}}, \"ternary\": {\"aaxis\": {\"gridcolor\": \"white\", \"linecolor\": \"white\", \"ticks\": \"\"}, \"baxis\": {\"gridcolor\": \"white\", \"linecolor\": \"white\", \"ticks\": \"\"}, \"bgcolor\": \"#E5ECF6\", \"caxis\": {\"gridcolor\": \"white\", \"linecolor\": \"white\", \"ticks\": \"\"}}, \"title\": {\"x\": 0.05}, \"xaxis\": {\"automargin\": true, \"gridcolor\": \"white\", \"linecolor\": \"white\", \"ticks\": \"\", \"zerolinecolor\": \"white\", \"zerolinewidth\": 2}, \"yaxis\": {\"automargin\": true, \"gridcolor\": \"white\", \"linecolor\": \"white\", \"ticks\": \"\", \"zerolinecolor\": \"white\", \"zerolinewidth\": 2}}}, \"title\": {\"text\": \"First three PCA directions\"}},\n",
       "                        {\"responsive\": true}\n",
       "                    ).then(function(){\n",
       "                            \n",
       "var gd = document.getElementById('47ea2768-4ad0-4544-956b-376cb9a01a94');\n",
       "var x = new MutationObserver(function (mutations, observer) {{\n",
       "        var display = window.getComputedStyle(gd).display;\n",
       "        if (!display || display === 'none') {{\n",
       "            console.log([gd, 'removed!']);\n",
       "            Plotly.purge(gd);\n",
       "            observer.disconnect();\n",
       "        }}\n",
       "}});\n",
       "\n",
       "// Listen for the removal of the full notebook cells\n",
       "var notebookContainer = gd.closest('#notebook-container');\n",
       "if (notebookContainer) {{\n",
       "    x.observe(notebookContainer, {childList: true});\n",
       "}}\n",
       "\n",
       "// Listen for the clearing of the current output cell\n",
       "var outputEl = gd.closest('.output');\n",
       "if (outputEl) {{\n",
       "    x.observe(outputEl, {childList: true});\n",
       "}}\n",
       "\n",
       "                        })\n",
       "                };\n",
       "                });\n",
       "            </script>\n",
       "        </div>"
      ]
     },
     "metadata": {},
     "output_type": "display_data"
    }
   ],
   "source": [
    "#fig = plt.figure(figsize=(12, 12))\n",
    "#ax = fig.add_subplot(111, projection='3d')\n",
    "features = ['SepalLengthCm', 'SepalWidthCm', 'PetalLengthCm', 'PetalWidthCm']\n",
    "\n",
    "df_reduced = PCA(n_components=3).fit_transform(df[features])\n",
    "\n",
    "markers = ['circle', 'square', 'x']\n",
    "colors = ['blue', 'orange', 'green']\n",
    "\n",
    "traces = []\n",
    "\n",
    "for specie_df in df['Species'].unique():\n",
    "    xs = df_reduced[df['Species'] == specie_df][:,0]\n",
    "    ys = df_reduced[df['Species'] == specie_df][:,1]\n",
    "    zs = df_reduced[df['Species'] == specie_df][:,2]\n",
    "\n",
    "#    ax.scatter(xs, ys, zs, marker = markers.pop(0))\n",
    "    traces.append(go.Scatter3d(x=xs, \n",
    "                         y=ys, \n",
    "                         z=zs,\n",
    "                         mode='markers',\n",
    "                         marker=dict(\n",
    "                             size=6,\n",
    "                             color=colors.pop(0),  \n",
    "                             opacity=0.8,\n",
    "                             symbol=markers.pop(0)),\n",
    "                             name=specie_df\n",
    "                        )\n",
    "                 )\n",
    "layout=go.Layout(title='First three PCA directions',\n",
    "                 scene=dict(\n",
    "                         xaxis=dict(title='1st eigenvector'),\n",
    "                         yaxis=dict(title='2nd eigenvector'),\n",
    "                         zaxis=dict(title='3rd eigenvector'))\n",
    "                 )\n",
    "fig = go.Figure(data=traces, layout=layout)\n",
    "fig.show()"
   ]
  }
 ],
 "metadata": {
  "kernelspec": {
   "display_name": "Python 3",
   "language": "python",
   "name": "python3"
  },
  "language_info": {
   "codemirror_mode": {
    "name": "ipython",
    "version": 3
   },
   "file_extension": ".py",
   "mimetype": "text/x-python",
   "name": "python",
   "nbconvert_exporter": "python",
   "pygments_lexer": "ipython3",
   "version": "3.7.3"
  }
 },
 "nbformat": 4,
 "nbformat_minor": 2
}
