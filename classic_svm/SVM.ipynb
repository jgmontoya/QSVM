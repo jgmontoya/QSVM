{
 "cells": [
  {
   "cell_type": "code",
   "execution_count": 1,
   "metadata": {},
   "outputs": [],
   "source": [
    "import numpy as np\n",
    "import pandas as pd\n",
    "from sklearn.svm import SVC\n",
    "from sklearn.model_selection import GridSearchCV\n",
    "from sklearn.metrics import classification_report"
   ]
  },
  {
   "cell_type": "code",
   "execution_count": 2,
   "metadata": {},
   "outputs": [],
   "source": [
    "df_train = pd.read_csv('../dataset/Iris_training.csv', index_col=0)\n",
    "df_test = pd.read_csv('../dataset/Iris_testing.csv', index_col=0)\n",
    "features = ['SepalLengthCm', 'SepalWidthCm', 'PetalLengthCm', 'PetalWidthCm']"
   ]
  },
  {
   "cell_type": "code",
   "execution_count": 3,
   "metadata": {},
   "outputs": [
    {
     "name": "stderr",
     "output_type": "stream",
     "text": [
      "/home/j/.local/lib/python3.7/site-packages/sklearn/model_selection/_search.py:841: DeprecationWarning: The default of the `iid` parameter will change from True to False in version 0.22 and will be removed in 0.24. This will change numeric results when test-set sizes are unequal.\n",
      "  DeprecationWarning)\n"
     ]
    },
    {
     "name": "stdout",
     "output_type": "stream",
     "text": [
      "The best parameters are {'C': 1.0, 'gamma': 0.3877551020408163, 'kernel': 'rbf'} with a score of 98\n",
      "Best estimator accuracy on test set 96.67\n",
      "CPU times: user 5min 13s, sys: 5.09 s, total: 5min 18s\n",
      "Wall time: 26min 51s\n"
     ]
    }
   ],
   "source": [
    "%%time\n",
    "param_grid = [\n",
    "  {'C': np.linspace(1, 1000, num=500), 'kernel': ['linear']},\n",
    "  {'C': np.linspace(1, 1000, num=500), 'gamma': np.linspace(0, 1, num=50), 'kernel': ['rbf']},\n",
    "  {'C': np.linspace(1, 1000, num=500), 'degree': range(2, 10), 'gamma': np.linspace(0, 1, num=50), 'kernel': ['poly']},\n",
    " ]\n",
    "grid = GridSearchCV(SVC(), param_grid =param_grid, cv=3, n_jobs=-1, scoring='accuracy')\n",
    "grid.fit(df_train[features], df_train['Species'])\n",
    "  \n",
    "print(f'The best parameters are {grid.best_params_} with a score of {grid.best_score_ * 100:0.0f}')\n",
    "print(f'Best estimator accuracy on test set {grid.best_estimator_.score(df_test[features], df_test[\"Species\"]) * 100:.2f}')"
   ]
  },
  {
   "cell_type": "code",
   "execution_count": null,
   "metadata": {},
   "outputs": [],
   "source": []
  }
 ],
 "metadata": {
  "kernelspec": {
   "display_name": "Python 3",
   "language": "python",
   "name": "python3"
  },
  "language_info": {
   "codemirror_mode": {
    "name": "ipython",
    "version": 3
   },
   "file_extension": ".py",
   "mimetype": "text/x-python",
   "name": "python",
   "nbconvert_exporter": "python",
   "pygments_lexer": "ipython3",
   "version": "3.7.3"
  }
 },
 "nbformat": 4,
 "nbformat_minor": 2
}
